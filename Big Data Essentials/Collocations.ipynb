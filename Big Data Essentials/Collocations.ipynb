{
 "cells": [
  {
   "cell_type": "code",
   "execution_count": 1,
   "metadata": {},
   "outputs": [],
   "source": [
    "from __future__ import division\n",
    "from pyspark import SparkConf, SparkContext\n",
    "\n",
    "sc = SparkContext(conf=SparkConf().setAppName(\"MyApp\").setMaster(\"local\"))"
   ]
  },
  {
   "cell_type": "code",
   "execution_count": 12,
   "metadata": {},
   "outputs": [],
   "source": [
    "import re\n",
    "from math import log\n",
    "\n",
    "def parse_article(line):\n",
    "    try:\n",
    "        article_id, text = unicode(line.rstrip()).split('\\t', 1)\n",
    "        text = re.sub(\"^\\W+|\\W+$\", \"\", text, flags=re.UNICODE)\n",
    "        words = re.split(\"\\W*\\s+\\W*\", text, flags=re.UNICODE)\n",
    "        return words\n",
    "    except ValueError as e:\n",
    "        return []\n",
    "\n",
    "def PMI(probability_a, probability_b, probability_ab):\n",
    "    return log(probability_ab / (probability_a * probability_b))\n",
    "               \n",
    "def NPMI(pair, count_pair, count_all_pairs, count_all_words, words_frequency_dict): \n",
    "    a, b = pair.split('_')\n",
    "    probability_a = words_frequency_dict[a]/count_all_words\n",
    "    probability_b = words_frequency_dict[b]/count_all_words\n",
    "    probability_ab = count_pair/count_all_pairs\n",
    "    pmi = PMI(probability_a, probability_b, probability_ab)/ -log(probability_ab)\n",
    "    return (pair, pmi)\n",
    "               \n",
    "def bigrams(text):\n",
    "    all_pairs = [(a+'_'+b,1) for a,b in zip(text[:-1], text[1:])]\n",
    "    return all_pairs"
   ]
  },
  {
   "cell_type": "code",
   "execution_count": 13,
   "metadata": {},
   "outputs": [],
   "source": [
    "with open('/datasets/stop_words_en.txt', 'r') as f:\n",
    "    stop_words = set(f.read().split())"
   ]
  },
  {
   "cell_type": "code",
   "execution_count": 14,
   "metadata": {},
   "outputs": [],
   "source": [
    "wiki = sc.textFile(\"/data/wiki/en_articles_part/articles-part\", 16).map(parse_article)"
   ]
  },
  {
   "cell_type": "code",
   "execution_count": 15,
   "metadata": {},
   "outputs": [],
   "source": [
    "wiki_filter = wiki.map(lambda words: [x.lower() for x in words])\\\n",
    "                  .map(lambda words: [x for x in words if x not in stop_words])\n",
    "wiki_bigrams = wiki_filter.flatMap(bigrams).reduceByKey(lambda a, b: a + b)\n",
    "wiki_top_bigrams = wiki_bigrams.filter(lambda (pair, count): count >= 500)"
   ]
  },
  {
   "cell_type": "code",
   "execution_count": 16,
   "metadata": {},
   "outputs": [],
   "source": [
    "all_words = wiki_filter.map(lambda words: len(words))\n",
    "count_all_words = all_words.reduce(lambda a, b: a + b)"
   ]
  },
  {
   "cell_type": "code",
   "execution_count": 17,
   "metadata": {},
   "outputs": [],
   "source": [
    "all_pairs = wiki_filter.map(lambda words: len(words)-1)\n",
    "count_all_pairs = all_pairs.reduce(lambda a, b: a + b)"
   ]
  },
  {
   "cell_type": "code",
   "execution_count": 18,
   "metadata": {},
   "outputs": [],
   "source": [
    "words_frequency = wiki_filter.flatMap(lambda words: [(x, 1) for x in words])\\\n",
    "                           .reduceByKey(lambda a,b: a+b)\\\n",
    "                           .filter(lambda (pair, count): count >= 500)\\\n",
    "                           .collect()\n",
    "\n",
    "\n",
    "words_frequency_dict = dict()\n",
    "for item, count in words_frequency:\n",
    "    words_frequency_dict[item] = count"
   ]
  },
  {
   "cell_type": "code",
   "execution_count": 19,
   "metadata": {},
   "outputs": [
    {
     "name": "stdout",
     "output_type": "stream",
     "text": [
      "los_angeles\n",
      "external_links\n",
      "united_states\n",
      "prime_minister\n",
      "san_francisco\n",
      "et_al\n",
      "new_york\n",
      "supreme_court\n",
      "19th_century\n",
      "20th_century\n",
      "references_external\n",
      "soviet_union\n",
      "air_force\n",
      "baseball_player\n",
      "university_press\n",
      "roman_catholic\n",
      "united_kingdom\n",
      "references_reading\n",
      "notes_references\n",
      "award_best\n",
      "north_america\n",
      "new_zealand\n",
      "civil_war\n",
      "catholic_church\n",
      "world_war\n",
      "war_ii\n",
      "south_africa\n",
      "took_place\n",
      "roman_empire\n",
      "united_nations\n",
      "american_singer-songwriter\n",
      "high_school\n",
      "american_actor\n",
      "american_actress\n",
      "american_baseball\n",
      "york_city\n",
      "american_football\n",
      "years_later\n",
      "north_american\n"
     ]
    }
   ],
   "source": [
    "pairs_npmi = wiki_top_bigrams.map(lambda (pair, count): NPMI(pair, count, count_all_pairs, \n",
    "                                                             count_all_words, words_frequency_dict))\\\n",
    "    .map(lambda (a, b): (b, a))\\\n",
    "    .sortByKey(False)\\\n",
    "    .map(lambda (a, b): (b, a))\\\n",
    "    .take(39)\n",
    "    \n",
    "for pair, npmi in pairs_npmi:\n",
    "    print pair"
   ]
  },
  {
   "cell_type": "code",
   "execution_count": null,
   "metadata": {},
   "outputs": [],
   "source": [
    "# los_angeles\n",
    "# external_links\n",
    "# united_states\n",
    "# prime_minister\n",
    "# san_francisco\n",
    "# et_al\n",
    "# new_york\n",
    "# supreme_court\n",
    "# 19th_century\n",
    "# 20th_century\n",
    "# references_external\n",
    "# soviet_union\n",
    "# air_force\n",
    "# baseball_player\n",
    "# university_press\n",
    "# roman_catholic\n",
    "# united_kingdom\n",
    "# references_reading\n",
    "# notes_references\n",
    "# award_best\n",
    "# north_america\n",
    "# new_zealand\n",
    "# civil_war\n",
    "# catholic_church\n",
    "# world_war\n",
    "# war_ii\n",
    "# south_africa\n",
    "# took_place\n",
    "# roman_empire\n",
    "# united_nations\n",
    "# american_singer-songwriter\n",
    "# high_school\n",
    "# american_actor\n",
    "# american_actress\n",
    "# american_baseball\n",
    "# york_city\n",
    "# american_football\n",
    "# years_later\n",
    "# north_american"
   ]
  }
 ],
 "metadata": {
  "kernelspec": {
   "display_name": "Python 2",
   "language": "python",
   "name": "python2"
  },
  "language_info": {
   "codemirror_mode": {
    "name": "ipython",
    "version": 2
   },
   "file_extension": ".py",
   "mimetype": "text/x-python",
   "name": "python",
   "nbconvert_exporter": "python",
   "pygments_lexer": "ipython2",
   "version": "2.7.12"
  }
 },
 "nbformat": 4,
 "nbformat_minor": 2
}
