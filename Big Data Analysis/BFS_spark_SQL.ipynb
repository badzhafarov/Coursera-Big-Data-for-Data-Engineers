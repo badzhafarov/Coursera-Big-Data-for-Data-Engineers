{
 "cells": [
  {
   "cell_type": "code",
   "execution_count": 10,
   "metadata": {},
   "outputs": [],
   "source": [
    "from pyspark.sql.types import *\n",
    "from pyspark.sql.functions import *\n",
    "from pyspark.sql import SparkSession"
   ]
  },
  {
   "cell_type": "code",
   "execution_count": 11,
   "metadata": {},
   "outputs": [],
   "source": [
    "spark = SparkSession.builder.enableHiveSupport().master(\"local[2]\").getOrCreate()"
   ]
  },
  {
   "cell_type": "code",
   "execution_count": 12,
   "metadata": {},
   "outputs": [],
   "source": [
    "graph_schema = StructType([\n",
    "    StructField(\"to\", IntegerType(), False),\n",
    "    StructField(\"from\", IntegerType(), False)\n",
    "])\n",
    "\n",
    "dist_schema = StructType([\n",
    "    StructField(\"vertex\", IntegerType(), False),\n",
    "    StructField(\"distance\", IntegerType(), False)\n",
    "])"
   ]
  },
  {
   "cell_type": "code",
   "execution_count": 13,
   "metadata": {},
   "outputs": [],
   "source": [
    "def shortest_path(start, finish, path = \"/data/twitter/twitter_sample.txt\"):\n",
    "    edges = spark.read.csv(path, sep=\"\\t\", schema=graph_schema).repartition(100)\n",
    "    distances = spark.createDataFrame([[start, int(0)]], schema=dist_schema)\n",
    "    length = 0\n",
    "    while True:\n",
    "        new_distance s= distances.join(edges, col(\"from\")==col(\"vertex\")).select(col(\"to\").alias(\"vertex\"), distances.distance)     \n",
    "        if new_distances.filter(edges.to == finish).count() == 0: \n",
    "            distances = new_distances.selectExpr(\"vertex\", \"distance+1 as distance\")\n",
    "        else:\n",
    "            break\n",
    "    \n",
    "    length = new_distances.agg({\"distance\": \"min\"}).collect()[0][0]\n",
    "    \n",
    "    if length > 0 :\n",
    "        length += 1\n",
    "    return length"
   ]
  },
  {
   "cell_type": "code",
   "execution_count": 14,
   "metadata": {},
   "outputs": [
    {
     "name": "stdout",
     "output_type": "stream",
     "text": [
      "8\n"
     ]
    }
   ],
   "source": [
    "print shortest_path(12, 34)"
   ]
  },
  {
   "cell_type": "code",
   "execution_count": null,
   "metadata": {},
   "outputs": [],
   "source": []
  }
 ],
 "metadata": {
  "kernelspec": {
   "display_name": "Python 2",
   "language": "python",
   "name": "python2"
  },
  "language_info": {
   "codemirror_mode": {
    "name": "ipython",
    "version": 2
   },
   "file_extension": ".py",
   "mimetype": "text/x-python",
   "name": "python",
   "nbconvert_exporter": "python",
   "pygments_lexer": "ipython2",
   "version": "2.7.12"
  }
 },
 "nbformat": 4,
 "nbformat_minor": 2
}
