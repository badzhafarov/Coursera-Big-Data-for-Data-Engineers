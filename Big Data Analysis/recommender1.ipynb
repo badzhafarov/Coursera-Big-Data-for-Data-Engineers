{
 "cells": [
  {
   "cell_type": "code",
   "execution_count": 39,
   "metadata": {},
   "outputs": [],
   "source": [
    "import os\n",
    "from pyspark.sql import SparkSession, Window\n",
    "from pyspark.sql.types import *\n",
    "from pyspark.sql.functions import *"
   ]
  },
  {
   "cell_type": "code",
   "execution_count": 40,
   "metadata": {},
   "outputs": [],
   "source": [
    "sparkSession = SparkSession.builder.enableHiveSupport().master(\"local\").getOrCreate()"
   ]
  },
  {
   "cell_type": "code",
   "execution_count": 41,
   "metadata": {},
   "outputs": [],
   "source": [
    "data = sparkSession.read.parquet(\"/data/sample264\")\n",
    "dataforNext=sparkSession.read.parquet(\"/data/sample264\")\n",
    "meta = sparkSession.read.parquet(\"/data/meta\")\n",
    "dataforNext=dataforNext.select('userId',  \\\n",
    "                         dataforNext.trackId.alias('trackId1'), \\\n",
    "                         dataforNext.timestamp.alias('timestamp1'))"
   ]
  },
  {
   "cell_type": "code",
   "execution_count": 42,
   "metadata": {},
   "outputs": [],
   "source": [
    "def normalization(data, key1, key2, field, threshold): \n",
    "    \n",
    "    window = Window.partitionBy(key1).orderBy(col(field).desc())\n",
    "        \n",
    "    top = data.withColumn(\"row_number\", row_number().over(window)) \\\n",
    "        .filter(col(\"row_number\") <= threshold) \\\n",
    "        .drop(col(\"row_number\")) \n",
    "        \n",
    "    df = top.groupBy(col(key1)).agg(col(key1), sum(col(field)).alias(\"sum_\" + field))\n",
    "   \n",
    "    normalizedData = top.join(df, key1, \"inner\") \\\n",
    "        .withColumn(\"norm_\" + field, col(field) / col(\"sum_\" + field)) \\\n",
    "        .cache()\n",
    "\n",
    "    return normalizedData"
   ]
  },
  {
   "cell_type": "code",
   "execution_count": 43,
   "metadata": {},
   "outputs": [],
   "source": [
    "dataJoined = data.join(dataforNext, data.userId == dataforNext.userId )\\\n",
    "                       .filter(data.trackId!=dataforNext.trackId1) \\\n",
    "                       .filter((dataforNext.timestamp1-data.timestamp<=420) & (dataforNext.timestamp1-data.timestamp>0) ) \\\n",
    "                    .select(data.userId,  \\\n",
    "                         data.trackId.alias('trackId1'), \\\n",
    "                         dataforNext.trackId1.alias('trackId2')) \\\n",
    "                .withColumn(\"id\", when((col('trackId2')>=col('trackId1')),col('trackId1')).otherwise(col('trackId2'))) \\\n",
    "                .withColumn(\"id2\", when((col('trackId1')<=col('trackId2')),col('trackId2')).otherwise(col('trackId1'))) \n",
    "\n",
    "tracks = dataJoined.groupBy('id', 'id2').count()\n",
    "tracksNorm = normalization(tracks, \"id\",\"id2\", \"count\", 40)\n",
    "window = Window.orderBy(col(\"norm_count\").desc())\n",
    "trackList = tracksNorm.withColumn(\"position\", rank().over(window)) \\\n",
    "                         .filter(col(\"position\") <= 40)\\\n",
    "                         .sort([\"norm_count\",\"id\",\"id2\"],ascending=[0,1,1])\\\n",
    "                        .select(col(\"id\"), col(\"id2\"))\\\n",
    "                          .take(40)"
   ]
  },
  {
   "cell_type": "code",
   "execution_count": 44,
   "metadata": {},
   "outputs": [
    {
     "name": "stdout",
     "output_type": "stream",
     "text": [
      "798256 923706\n",
      "798319 837992\n",
      "798322 876562\n",
      "798331 827364\n",
      "798335 840741\n",
      "798374 816874\n",
      "798375 810685\n",
      "798379 812055\n",
      "798380 840113\n",
      "798396 817687\n",
      "798398 926302\n",
      "798405 867217\n",
      "798443 905923\n",
      "798457 918918\n",
      "798460 891840\n",
      "798461 940379\n",
      "798470 840814\n",
      "798474 963162\n",
      "798477 883244\n",
      "798485 955521\n",
      "798505 905671\n",
      "798545 949238\n",
      "798550 936295\n",
      "798626 845438\n",
      "798691 818279\n",
      "798692 898823\n",
      "798702 811440\n",
      "798704 937570\n",
      "798725 933147\n",
      "798738 894170\n",
      "798745 799665\n",
      "798782 956938\n",
      "798801 950802\n",
      "798820 890393\n",
      "798833 916319\n",
      "798865 962662\n",
      "798931 893574\n",
      "798946 946408\n",
      "799012 809997\n",
      "799024 935246\n"
     ]
    }
   ],
   "source": [
    "for val in trackList:\n",
    "    print \"%s %s\" % val"
   ]
  },
  {
   "cell_type": "code",
   "execution_count": null,
   "metadata": {},
   "outputs": [],
   "source": []
  }
 ],
 "metadata": {
  "kernelspec": {
   "display_name": "Python 2",
   "language": "python",
   "name": "python2"
  },
  "language_info": {
   "codemirror_mode": {
    "name": "ipython",
    "version": 2
   },
   "file_extension": ".py",
   "mimetype": "text/x-python",
   "name": "python",
   "nbconvert_exporter": "python",
   "pygments_lexer": "ipython2",
   "version": "2.7.12"
  }
 },
 "nbformat": 4,
 "nbformat_minor": 2
}
